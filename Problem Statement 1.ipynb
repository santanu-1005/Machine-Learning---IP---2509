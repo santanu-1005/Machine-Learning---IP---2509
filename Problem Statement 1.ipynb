{
 "cells": [
  {
   "cell_type": "markdown",
   "id": "4851b3d2",
   "metadata": {},
   "source": [
    "# Import Libraries\n"
   ]
  },
  {
   "cell_type": "code",
   "execution_count": 1,
   "id": "75ac771a",
   "metadata": {},
   "outputs": [],
   "source": [
    "import numpy as np\n",
    "import pandas as pd\n",
    "import openpyxl"
   ]
  },
  {
   "cell_type": "markdown",
   "id": "4dae6ca3",
   "metadata": {},
   "source": [
    "# Data Preprocessing \n"
   ]
  },
  {
   "cell_type": "markdown",
   "id": "33dfc4db",
   "metadata": {},
   "source": [
    "***Importing The Dataset***"
   ]
  },
  {
   "cell_type": "code",
   "execution_count": 16,
   "id": "74b6b140",
   "metadata": {},
   "outputs": [
    {
     "data": {
      "text/html": [
       "<div>\n",
       "<style scoped>\n",
       "    .dataframe tbody tr th:only-of-type {\n",
       "        vertical-align: middle;\n",
       "    }\n",
       "\n",
       "    .dataframe tbody tr th {\n",
       "        vertical-align: top;\n",
       "    }\n",
       "\n",
       "    .dataframe thead th {\n",
       "        text-align: right;\n",
       "    }\n",
       "</style>\n",
       "<table border=\"1\" class=\"dataframe\">\n",
       "  <thead>\n",
       "    <tr style=\"text-align: right;\">\n",
       "      <th></th>\n",
       "      <th>First Name</th>\n",
       "      <th>Email ID</th>\n",
       "      <th>Quantity</th>\n",
       "      <th>Price Tier</th>\n",
       "      <th>Ticket Type</th>\n",
       "      <th>Attendee #</th>\n",
       "      <th>Group</th>\n",
       "      <th>Order Type</th>\n",
       "      <th>Currency</th>\n",
       "      <th>Total Paid</th>\n",
       "      <th>...</th>\n",
       "      <th>Attendee Status</th>\n",
       "      <th>College Name</th>\n",
       "      <th>How did you come to know about this event?</th>\n",
       "      <th>Specify in \"Others\" (how did you come to know about this event)</th>\n",
       "      <th>Designation</th>\n",
       "      <th>Year of Graduation</th>\n",
       "      <th>CGPA</th>\n",
       "      <th>Speaking Skills</th>\n",
       "      <th>ML Knowledge</th>\n",
       "      <th>Placement Status</th>\n",
       "    </tr>\n",
       "  </thead>\n",
       "  <tbody>\n",
       "    <tr>\n",
       "      <th>0</th>\n",
       "      <td>ANIKET</td>\n",
       "      <td>aniket@xyz.com</td>\n",
       "      <td>1</td>\n",
       "      <td>NaN</td>\n",
       "      <td>Art of Resume Building</td>\n",
       "      <td>2.213855e+09</td>\n",
       "      <td>NaN</td>\n",
       "      <td>Free Order</td>\n",
       "      <td>USD</td>\n",
       "      <td>0</td>\n",
       "      <td>...</td>\n",
       "      <td>Attending</td>\n",
       "      <td>D Y PATIL INSTITUTE OF MCA AND MANAGEMENT AKUR...</td>\n",
       "      <td>Email</td>\n",
       "      <td>NaN</td>\n",
       "      <td>Students</td>\n",
       "      <td>NaN</td>\n",
       "      <td>6.7</td>\n",
       "      <td>2</td>\n",
       "      <td>5</td>\n",
       "      <td>Placed</td>\n",
       "    </tr>\n",
       "    <tr>\n",
       "      <th>1</th>\n",
       "      <td>Dhanshree</td>\n",
       "      <td>dhanshree@xyz.com</td>\n",
       "      <td>1</td>\n",
       "      <td>NaN</td>\n",
       "      <td>Art of Resume Building</td>\n",
       "      <td>2.213859e+09</td>\n",
       "      <td>NaN</td>\n",
       "      <td>Free Order</td>\n",
       "      <td>USD</td>\n",
       "      <td>0</td>\n",
       "      <td>...</td>\n",
       "      <td>Attending</td>\n",
       "      <td>AP SHAH INSTITUTE OF TECHNOLOGY</td>\n",
       "      <td>Others</td>\n",
       "      <td>College</td>\n",
       "      <td>Students</td>\n",
       "      <td>NaN</td>\n",
       "      <td>8.2</td>\n",
       "      <td>3</td>\n",
       "      <td>2</td>\n",
       "      <td>Not placed</td>\n",
       "    </tr>\n",
       "    <tr>\n",
       "      <th>2</th>\n",
       "      <td>Dhiraj</td>\n",
       "      <td>dhiraj@xyz.com</td>\n",
       "      <td>1</td>\n",
       "      <td>NaN</td>\n",
       "      <td>Art of Resume Building</td>\n",
       "      <td>2.213862e+09</td>\n",
       "      <td>NaN</td>\n",
       "      <td>Free Order</td>\n",
       "      <td>USD</td>\n",
       "      <td>0</td>\n",
       "      <td>...</td>\n",
       "      <td>Attending</td>\n",
       "      <td>Don Bosco College of Engineering Fatorda Goa</td>\n",
       "      <td>Email</td>\n",
       "      <td>NaN</td>\n",
       "      <td>Students</td>\n",
       "      <td>NaN</td>\n",
       "      <td>6.5</td>\n",
       "      <td>4</td>\n",
       "      <td>3</td>\n",
       "      <td>Not placed</td>\n",
       "    </tr>\n",
       "    <tr>\n",
       "      <th>3</th>\n",
       "      <td>Pooja</td>\n",
       "      <td>pooja@xyz.com</td>\n",
       "      <td>1</td>\n",
       "      <td>NaN</td>\n",
       "      <td>Art of Resume Building</td>\n",
       "      <td>2.213988e+09</td>\n",
       "      <td>NaN</td>\n",
       "      <td>Free Order</td>\n",
       "      <td>USD</td>\n",
       "      <td>0</td>\n",
       "      <td>...</td>\n",
       "      <td>Attending</td>\n",
       "      <td>Pillai College of Engineering New Panvel</td>\n",
       "      <td>Email</td>\n",
       "      <td>NaN</td>\n",
       "      <td>Students</td>\n",
       "      <td>NaN</td>\n",
       "      <td>8.7</td>\n",
       "      <td>2</td>\n",
       "      <td>5</td>\n",
       "      <td>Not placed</td>\n",
       "    </tr>\n",
       "    <tr>\n",
       "      <th>4</th>\n",
       "      <td>Aayush</td>\n",
       "      <td>aayush@xyz.com</td>\n",
       "      <td>1</td>\n",
       "      <td>NaN</td>\n",
       "      <td>Art of Resume Building</td>\n",
       "      <td>2.214567e+09</td>\n",
       "      <td>NaN</td>\n",
       "      <td>Free Order</td>\n",
       "      <td>USD</td>\n",
       "      <td>0</td>\n",
       "      <td>...</td>\n",
       "      <td>Attending</td>\n",
       "      <td>St Xavier's College</td>\n",
       "      <td>Instagram | LinkedIn | Cloud Counselage Website</td>\n",
       "      <td>NaN</td>\n",
       "      <td>Students</td>\n",
       "      <td>NaN</td>\n",
       "      <td>9.1</td>\n",
       "      <td>3</td>\n",
       "      <td>5</td>\n",
       "      <td>Placed</td>\n",
       "    </tr>\n",
       "  </tbody>\n",
       "</table>\n",
       "<p>5 rows × 23 columns</p>\n",
       "</div>"
      ],
      "text/plain": [
       "  First Name           Email ID  Quantity  Price Tier             Ticket Type  \\\n",
       "0     ANIKET     aniket@xyz.com         1         NaN  Art of Resume Building   \n",
       "1  Dhanshree  dhanshree@xyz.com         1         NaN  Art of Resume Building   \n",
       "2     Dhiraj     dhiraj@xyz.com         1         NaN  Art of Resume Building   \n",
       "3      Pooja      pooja@xyz.com         1         NaN  Art of Resume Building   \n",
       "4     Aayush     aayush@xyz.com         1         NaN  Art of Resume Building   \n",
       "\n",
       "     Attendee #  Group  Order Type Currency  Total Paid  ...  Attendee Status  \\\n",
       "0  2.213855e+09    NaN  Free Order      USD           0  ...        Attending   \n",
       "1  2.213859e+09    NaN  Free Order      USD           0  ...        Attending   \n",
       "2  2.213862e+09    NaN  Free Order      USD           0  ...        Attending   \n",
       "3  2.213988e+09    NaN  Free Order      USD           0  ...        Attending   \n",
       "4  2.214567e+09    NaN  Free Order      USD           0  ...        Attending   \n",
       "\n",
       "                                        College Name  \\\n",
       "0  D Y PATIL INSTITUTE OF MCA AND MANAGEMENT AKUR...   \n",
       "1                   AP SHAH INSTITUTE OF TECHNOLOGY    \n",
       "2       Don Bosco College of Engineering Fatorda Goa   \n",
       "3           Pillai College of Engineering New Panvel   \n",
       "4                               St Xavier's College    \n",
       "\n",
       "        How did you come to know about this event?  \\\n",
       "0                                            Email   \n",
       "1                                           Others   \n",
       "2                                            Email   \n",
       "3                                            Email   \n",
       "4  Instagram | LinkedIn | Cloud Counselage Website   \n",
       "\n",
       "  Specify in \"Others\" (how did you come to know about this event) Designation  \\\n",
       "0                                                NaN                 Students   \n",
       "1                                            College                 Students   \n",
       "2                                                NaN                 Students   \n",
       "3                                                NaN                 Students   \n",
       "4                                                NaN                 Students   \n",
       "\n",
       "  Year of Graduation CGPA Speaking Skills ML Knowledge  Placement Status  \n",
       "0                NaN  6.7               2            5            Placed  \n",
       "1                NaN  8.2               3            2        Not placed  \n",
       "2                NaN  6.5               4            3        Not placed  \n",
       "3                NaN  8.7               2            5        Not placed  \n",
       "4                NaN  9.1               3            5            Placed  \n",
       "\n",
       "[5 rows x 23 columns]"
      ]
     },
     "execution_count": 16,
     "metadata": {},
     "output_type": "execute_result"
    }
   ],
   "source": [
    "df = pd.read_excel(r'Data\\Prediction of Placement Status Data\\\\01 Train Data.xlsx')\n",
    "df.head()"
   ]
  },
  {
   "cell_type": "markdown",
   "id": "934f52eb",
   "metadata": {},
   "source": [
    "***Deleting Unnecessary Columns***"
   ]
  },
  {
   "cell_type": "code",
   "execution_count": 3,
   "id": "4032a5a5",
   "metadata": {},
   "outputs": [
    {
     "data": {
      "text/html": [
       "<div>\n",
       "<style scoped>\n",
       "    .dataframe tbody tr th:only-of-type {\n",
       "        vertical-align: middle;\n",
       "    }\n",
       "\n",
       "    .dataframe tbody tr th {\n",
       "        vertical-align: top;\n",
       "    }\n",
       "\n",
       "    .dataframe thead th {\n",
       "        text-align: right;\n",
       "    }\n",
       "</style>\n",
       "<table border=\"1\" class=\"dataframe\">\n",
       "  <thead>\n",
       "    <tr style=\"text-align: right;\">\n",
       "      <th></th>\n",
       "      <th>CGPA</th>\n",
       "      <th>Speaking Skills</th>\n",
       "      <th>ML Knowledge</th>\n",
       "      <th>Placement Status</th>\n",
       "    </tr>\n",
       "  </thead>\n",
       "  <tbody>\n",
       "    <tr>\n",
       "      <th>0</th>\n",
       "      <td>6.7</td>\n",
       "      <td>2</td>\n",
       "      <td>5</td>\n",
       "      <td>Placed</td>\n",
       "    </tr>\n",
       "    <tr>\n",
       "      <th>1</th>\n",
       "      <td>8.2</td>\n",
       "      <td>3</td>\n",
       "      <td>2</td>\n",
       "      <td>Not placed</td>\n",
       "    </tr>\n",
       "    <tr>\n",
       "      <th>2</th>\n",
       "      <td>6.5</td>\n",
       "      <td>4</td>\n",
       "      <td>3</td>\n",
       "      <td>Not placed</td>\n",
       "    </tr>\n",
       "    <tr>\n",
       "      <th>3</th>\n",
       "      <td>8.7</td>\n",
       "      <td>2</td>\n",
       "      <td>5</td>\n",
       "      <td>Not placed</td>\n",
       "    </tr>\n",
       "    <tr>\n",
       "      <th>4</th>\n",
       "      <td>9.1</td>\n",
       "      <td>3</td>\n",
       "      <td>5</td>\n",
       "      <td>Placed</td>\n",
       "    </tr>\n",
       "  </tbody>\n",
       "</table>\n",
       "</div>"
      ],
      "text/plain": [
       "   CGPA  Speaking Skills  ML Knowledge Placement Status\n",
       "0   6.7                2             5           Placed\n",
       "1   8.2                3             2       Not placed\n",
       "2   6.5                4             3       Not placed\n",
       "3   8.7                2             5       Not placed\n",
       "4   9.1                3             5           Placed"
      ]
     },
     "execution_count": 3,
     "metadata": {},
     "output_type": "execute_result"
    }
   ],
   "source": [
    "col_to_delete = ['First Name','Email ID','Quantity', 'Price Tier', 'Ticket Type',\n",
    "       'Attendee #', 'Group', 'Order Type', 'Currency', 'Total Paid',\n",
    "       'Fees Paid', 'Eventbrite Fees', 'Eventbrite Payment Processing',\n",
    "       'Attendee Status', 'College Name',\n",
    "       'How did you come to know about this event?',\n",
    "       'Specify in \"Others\" (how did you come to know about this event)',\n",
    "       'Designation', 'Year of Graduation']\n",
    "\n",
    "df = df.drop(columns=col_to_delete, axis=1)\n",
    "df.head()"
   ]
  },
  {
   "cell_type": "markdown",
   "id": "645bb8a4",
   "metadata": {},
   "source": [
    "***Updating Missing Values In The 'Placement Status Column'***"
   ]
  },
  {
   "cell_type": "code",
   "execution_count": 4,
   "id": "b62c5f38",
   "metadata": {},
   "outputs": [
    {
     "data": {
      "text/plain": [
       "Placement Status\n",
       "Not placed    4528\n",
       "Placed         366\n",
       "Name: count, dtype: int64"
      ]
     },
     "execution_count": 4,
     "metadata": {},
     "output_type": "execute_result"
    }
   ],
   "source": [
    "df1 = df\n",
    "avg_ml_knw = int(df1['ML Knowledge'].mean())\n",
    "\n",
    "df1['Placement Status'] = df1['Placement Status'].apply(lambda x: 'Placed' if pd.isnull(x) and df.loc[df1['Placement Status'].isnull(), 'CGPA'].iloc[0] > 7.5 and df1.loc[df['Placement Status'].isnull(), 'ML Knowledge'].iloc[0] > avg_ml_knw else 'Not placed' if pd.isnull(x) else x)\n",
    "df1['Placement Status'].value_counts(dropna=False)"
   ]
  },
  {
   "cell_type": "markdown",
   "id": "c15b22ee",
   "metadata": {},
   "source": [
    "# EDA"
   ]
  },
  {
   "cell_type": "markdown",
   "id": "4936e5b6",
   "metadata": {},
   "source": [
    "*CGPA Distribution*"
   ]
  },
  {
   "cell_type": "code",
   "execution_count": 6,
   "id": "da2e069f",
   "metadata": {},
   "outputs": [
    {
     "name": "stderr",
     "output_type": "stream",
     "text": [
      "C:\\Users\\santa\\AppData\\Local\\Temp\\ipykernel_1224\\2751973769.py:13: FutureWarning: \n",
      "\n",
      "`shade` is now deprecated in favor of `fill`; setting `fill=True`.\n",
      "This will become an error in seaborn v0.14.0; please update your code.\n",
      "\n",
      "  sns.kdeplot(data=df1, x='CGPA', shade=True, color='skyblue')\n"
     ]
    },
    {
     "data": {
      "image/png": "[encoded data removed]",
      "text/plain": [
       "<Figure size 1000x600 with 2 Axes>"
      ]
     },
     "metadata": {},
     "output_type": "display_data"
    }
   ],
   "source": [
    "import seaborn as sns\n",
    "import matplotlib.pyplot as plt\n",
    "\n",
    "plt.figure(figsize=(10, 6))\n",
    "\n",
    "# Histogram\n",
    "plt.subplot(1, 2, 1)\n",
    "sns.histplot(data=df1, x='CGPA', bins=10, kde=False, color='skyblue')\n",
    "plt.title('CGPA Distribution (Histogram)')\n",
    "\n",
    "# KDE plot\n",
    "plt.subplot(1, 2, 2)\n",
    "sns.kdeplot(data=df1, x='CGPA', shade=True, color='skyblue')\n",
    "plt.title('CGPA Distribution (KDE Plot)')\n",
    "\n",
    "\n",
    "plt.tight_layout()\n",
    "plt.show()"
   ]
  },
  {
   "cell_type": "markdown",
   "id": "2e15fded",
   "metadata": {},
   "source": [
    "*ML Knowlwdge Visualisation*"
   ]
  },
  {
   "cell_type": "code",
   "execution_count": 7,
   "id": "236036e9",
   "metadata": {},
   "outputs": [
    {
     "name": "stderr",
     "output_type": "stream",
     "text": [
      "C:\\Users\\santa\\AppData\\Local\\Temp\\ipykernel_1224\\4210166605.py:10: FutureWarning: \n",
      "\n",
      "`shade` is now deprecated in favor of `fill`; setting `fill=True`.\n",
      "This will become an error in seaborn v0.14.0; please update your code.\n",
      "\n",
      "  sns.kdeplot(data=df, x='ML Knowledge', shade=True, color='skyblue')\n"
     ]
    },
    {
     "data": {
      "image/png": "[encoded data removed]",
      "text/plain": [
       "<Figure size 1000x600 with 2 Axes>"
      ]
     },
     "metadata": {},
     "output_type": "display_data"
    }
   ],
   "source": [
    "plt.figure(figsize=(10, 6))\n",
    "\n",
    "# Histogram\n",
    "plt.subplot(1, 2, 1)\n",
    "sns.histplot(data=df, x='ML Knowledge', bins=5, kde=False, color='skyblue')\n",
    "plt.title('ML Knowledge Distribution (Histogram)')\n",
    "\n",
    "# KDE plot\n",
    "plt.subplot(1, 2, 2)\n",
    "sns.kdeplot(data=df, x='ML Knowledge', shade=True, color='skyblue')\n",
    "plt.title('ML Knowledge Distribution (KDE Plot)')\n",
    "\n",
    "plt.tight_layout()\n",
    "plt.show()"
   ]
  },
  {
   "cell_type": "markdown",
   "id": "7dd02c8e",
   "metadata": {},
   "source": [
    "*Donut Chart  Placement Status*\n"
   ]
  },
  {
   "cell_type": "code",
   "execution_count": 8,
   "id": "a292bc75",
   "metadata": {},
   "outputs": [
    {
     "data": {
      "image/png": "[encoded data removed]",
      "text/plain": [
       "<Figure size 800x600 with 1 Axes>"
      ]
     },
     "metadata": {},
     "output_type": "display_data"
    }
   ],
   "source": [
    "placement_counts = df['Placement Status'].value_counts()\n",
    "\n",
    "# Create a pie chart\n",
    "plt.figure(figsize=(8, 6))\n",
    "plt.pie(placement_counts, labels=placement_counts.index, autopct='%1.1f%%', colors=['blue', 'red'])\n",
    "\n",
    "# Draw a white circle at the center to create a donut effect\n",
    "centre_circle = plt.Circle((0, 0), 0.7, color='white', linewidth=0)\n",
    "fig = plt.gcf()\n",
    "fig.gca().add_artist(centre_circle)\n",
    "\n",
    "plt.title('Placement Status')\n",
    "plt.axis('equal')\n",
    "plt.tight_layout()\n",
    "plt.show()"
   ]
  },
  {
   "cell_type": "markdown",
   "id": "891a36e3",
   "metadata": {},
   "source": [
    "***Converting Into The Numerical Value***"
   ]
  },
  {
   "cell_type": "code",
   "execution_count": 9,
   "id": "d10cf0b8",
   "metadata": {},
   "outputs": [
    {
     "data": {
      "text/html": [
       "<div>\n",
       "<style scoped>\n",
       "    .dataframe tbody tr th:only-of-type {\n",
       "        vertical-align: middle;\n",
       "    }\n",
       "\n",
       "    .dataframe tbody tr th {\n",
       "        vertical-align: top;\n",
       "    }\n",
       "\n",
       "    .dataframe thead th {\n",
       "        text-align: right;\n",
       "    }\n",
       "</style>\n",
       "<table border=\"1\" class=\"dataframe\">\n",
       "  <thead>\n",
       "    <tr style=\"text-align: right;\">\n",
       "      <th></th>\n",
       "      <th>CGPA</th>\n",
       "      <th>Speaking Skills</th>\n",
       "      <th>ML Knowledge</th>\n",
       "      <th>Placement Status</th>\n",
       "    </tr>\n",
       "  </thead>\n",
       "  <tbody>\n",
       "    <tr>\n",
       "      <th>0</th>\n",
       "      <td>6.7</td>\n",
       "      <td>2</td>\n",
       "      <td>5</td>\n",
       "      <td>1</td>\n",
       "    </tr>\n",
       "    <tr>\n",
       "      <th>1</th>\n",
       "      <td>8.2</td>\n",
       "      <td>3</td>\n",
       "      <td>2</td>\n",
       "      <td>0</td>\n",
       "    </tr>\n",
       "    <tr>\n",
       "      <th>2</th>\n",
       "      <td>6.5</td>\n",
       "      <td>4</td>\n",
       "      <td>3</td>\n",
       "      <td>0</td>\n",
       "    </tr>\n",
       "    <tr>\n",
       "      <th>3</th>\n",
       "      <td>8.7</td>\n",
       "      <td>2</td>\n",
       "      <td>5</td>\n",
       "      <td>0</td>\n",
       "    </tr>\n",
       "    <tr>\n",
       "      <th>4</th>\n",
       "      <td>9.1</td>\n",
       "      <td>3</td>\n",
       "      <td>5</td>\n",
       "      <td>1</td>\n",
       "    </tr>\n",
       "    <tr>\n",
       "      <th>...</th>\n",
       "      <td>...</td>\n",
       "      <td>...</td>\n",
       "      <td>...</td>\n",
       "      <td>...</td>\n",
       "    </tr>\n",
       "    <tr>\n",
       "      <th>4889</th>\n",
       "      <td>9.0</td>\n",
       "      <td>3</td>\n",
       "      <td>2</td>\n",
       "      <td>0</td>\n",
       "    </tr>\n",
       "    <tr>\n",
       "      <th>4890</th>\n",
       "      <td>7.2</td>\n",
       "      <td>4</td>\n",
       "      <td>3</td>\n",
       "      <td>0</td>\n",
       "    </tr>\n",
       "    <tr>\n",
       "      <th>4891</th>\n",
       "      <td>8.5</td>\n",
       "      <td>2</td>\n",
       "      <td>3</td>\n",
       "      <td>0</td>\n",
       "    </tr>\n",
       "    <tr>\n",
       "      <th>4892</th>\n",
       "      <td>6.5</td>\n",
       "      <td>5</td>\n",
       "      <td>5</td>\n",
       "      <td>0</td>\n",
       "    </tr>\n",
       "    <tr>\n",
       "      <th>4893</th>\n",
       "      <td>6.6</td>\n",
       "      <td>4</td>\n",
       "      <td>5</td>\n",
       "      <td>0</td>\n",
       "    </tr>\n",
       "  </tbody>\n",
       "</table>\n",
       "<p>4894 rows × 4 columns</p>\n",
       "</div>"
      ],
      "text/plain": [
       "      CGPA  Speaking Skills  ML Knowledge  Placement Status\n",
       "0      6.7                2             5                 1\n",
       "1      8.2                3             2                 0\n",
       "2      6.5                4             3                 0\n",
       "3      8.7                2             5                 0\n",
       "4      9.1                3             5                 1\n",
       "...    ...              ...           ...               ...\n",
       "4889   9.0                3             2                 0\n",
       "4890   7.2                4             3                 0\n",
       "4891   8.5                2             3                 0\n",
       "4892   6.5                5             5                 0\n",
       "4893   6.6                4             5                 0\n",
       "\n",
       "[4894 rows x 4 columns]"
      ]
     },
     "execution_count": 9,
     "metadata": {},
     "output_type": "execute_result"
    }
   ],
   "source": [
    "df1['Placement Status'] = df['Placement Status'].map({'Placed': 1, 'Not placed': 0})\n",
    "df1"
   ]
  },
  {
   "cell_type": "markdown",
   "id": "9b83ca36",
   "metadata": {},
   "source": [
    "***Creating A Cleaned Training Dataset***"
   ]
  },
  {
   "cell_type": "code",
   "execution_count": 10,
   "id": "11b3a5e1",
   "metadata": {},
   "outputs": [],
   "source": [
    "new_excel_file = r'Data\\Prediction of Placement Status Data\\\\Cleaned_Training_Data.xlsx'\n",
    "\n",
    "df1.to_excel(new_excel_file, index=False)"
   ]
  },
  {
   "cell_type": "markdown",
   "id": "feda3865",
   "metadata": {},
   "source": [
    "# Training Prediction Model"
   ]
  },
  {
   "cell_type": "markdown",
   "id": "0a28ae68",
   "metadata": {},
   "source": [
    "***Use Of Decision Tree Classifier***"
   ]
  },
  {
   "cell_type": "code",
   "execution_count": 11,
   "id": "914424b1",
   "metadata": {},
   "outputs": [
    {
     "name": "stdout",
     "output_type": "stream",
     "text": [
      "Decision Tree Classifier\n",
      "Accuracy: 0.91\n",
      "Classification Report:\n",
      "              precision    recall  f1-score   support\n",
      "\n",
      "           0       0.91      1.00      0.95       893\n",
      "           1       0.00      0.00      0.00        86\n",
      "\n",
      "    accuracy                           0.91       979\n",
      "   macro avg       0.46      0.50      0.48       979\n",
      "weighted avg       0.83      0.91      0.87       979\n",
      "\n"
     ]
    },
    {
     "name": "stderr",
     "output_type": "stream",
     "text": [
      "d:\\Project\\Machine Learning IP-2509\\virtual\\lib\\site-packages\\sklearn\\metrics\\_classification.py:1517: UndefinedMetricWarning: Precision is ill-defined and being set to 0.0 in labels with no predicted samples. Use `zero_division` parameter to control this behavior.\n",
      "  _warn_prf(average, modifier, f\"{metric.capitalize()} is\", len(result))\n",
      "d:\\Project\\Machine Learning IP-2509\\virtual\\lib\\site-packages\\sklearn\\metrics\\_classification.py:1517: UndefinedMetricWarning: Precision is ill-defined and being set to 0.0 in labels with no predicted samples. Use `zero_division` parameter to control this behavior.\n",
      "  _warn_prf(average, modifier, f\"{metric.capitalize()} is\", len(result))\n",
      "d:\\Project\\Machine Learning IP-2509\\virtual\\lib\\site-packages\\sklearn\\metrics\\_classification.py:1517: UndefinedMetricWarning: Precision is ill-defined and being set to 0.0 in labels with no predicted samples. Use `zero_division` parameter to control this behavior.\n",
      "  _warn_prf(average, modifier, f\"{metric.capitalize()} is\", len(result))\n"
     ]
    }
   ],
   "source": [
    "from sklearn.model_selection import train_test_split\n",
    "from sklearn.preprocessing import StandardScaler\n",
    "from sklearn.tree import DecisionTreeClassifier\n",
    "from sklearn.metrics import accuracy_score, classification_report\n",
    "\n",
    "\n",
    "train_df = pd.read_excel('Data/Prediction of Placement Status Data/Cleaned_Training_Data.xlsx')\n",
    "\n",
    "X = train_df[['CGPA', 'ML Knowledge']]\n",
    "y = train_df['Placement Status']\n",
    "\n",
    "\n",
    "X_train, X_test, y_train, y_test = train_test_split(X, y, test_size=0.2, random_state=42)\n",
    "\n",
    "scaler = StandardScaler()\n",
    "X_train_scaled = scaler.fit_transform(X_train)\n",
    "X_test_scaled = scaler.transform(X_test)\n",
    "\n",
    "\n",
    "decision_tree_clf = DecisionTreeClassifier()\n",
    "\n",
    "decision_tree_clf.fit(X_train_scaled, y_train)\n",
    "\n",
    "y_pred = decision_tree_clf.predict(X_test_scaled)\n",
    "\n",
    "accuracy = accuracy_score(y_test, y_pred)\n",
    "report = classification_report(y_test, y_pred)\n",
    "\n",
    "print(\"Decision Tree Classifier\")\n",
    "print(f\"Accuracy: {accuracy:.2f}\")\n",
    "print(\"Classification Report:\")\n",
    "print(report)"
   ]
  },
  {
   "cell_type": "markdown",
   "id": "b2ad6eff",
   "metadata": {},
   "source": [
    "# Store The Model Into The File"
   ]
  },
  {
   "cell_type": "code",
   "execution_count": 12,
   "id": "d6fab11d",
   "metadata": {},
   "outputs": [
    {
     "data": {
      "text/plain": [
       "['decision_tree_model.pkl']"
      ]
     },
     "execution_count": 12,
     "metadata": {},
     "output_type": "execute_result"
    }
   ],
   "source": [
    "import joblib\n",
    "joblib.dump(decision_tree_clf, 'decision_tree_model.pkl')\n"
   ]
  },
  {
   "cell_type": "markdown",
   "id": "2f951901",
   "metadata": {},
   "source": [
    "# Fill The Test Data"
   ]
  },
  {
   "cell_type": "markdown",
   "id": "de47de91",
   "metadata": {},
   "source": [
    "***Load The 02-Test Data***"
   ]
  },
  {
   "cell_type": "code",
   "execution_count": 13,
   "id": "7ef08f8a",
   "metadata": {},
   "outputs": [
    {
     "data": {
      "text/html": [
       "<div>\n",
       "<style scoped>\n",
       "    .dataframe tbody tr th:only-of-type {\n",
       "        vertical-align: middle;\n",
       "    }\n",
       "\n",
       "    .dataframe tbody tr th {\n",
       "        vertical-align: top;\n",
       "    }\n",
       "\n",
       "    .dataframe thead th {\n",
       "        text-align: right;\n",
       "    }\n",
       "</style>\n",
       "<table border=\"1\" class=\"dataframe\">\n",
       "  <thead>\n",
       "    <tr style=\"text-align: right;\">\n",
       "      <th></th>\n",
       "      <th>First Name</th>\n",
       "      <th>Email ID</th>\n",
       "      <th>Quantity</th>\n",
       "      <th>Price Tier</th>\n",
       "      <th>Ticket Type</th>\n",
       "      <th>Attendee #</th>\n",
       "      <th>Group</th>\n",
       "      <th>Order Type</th>\n",
       "      <th>Currency</th>\n",
       "      <th>Total Paid</th>\n",
       "      <th>...</th>\n",
       "      <th>Attendee Status</th>\n",
       "      <th>College Name</th>\n",
       "      <th>How did you come to know about this event?</th>\n",
       "      <th>Specify in \"Others\" (how did you come to know about this event)</th>\n",
       "      <th>Designation</th>\n",
       "      <th>Year of Graduation</th>\n",
       "      <th>CGPA</th>\n",
       "      <th>Speaking Skills</th>\n",
       "      <th>ML Knowledge</th>\n",
       "      <th>Placement Status</th>\n",
       "    </tr>\n",
       "  </thead>\n",
       "  <tbody>\n",
       "    <tr>\n",
       "      <th>0</th>\n",
       "      <td>Sahil</td>\n",
       "      <td>sahil@xyz.com</td>\n",
       "      <td>1</td>\n",
       "      <td>NaN</td>\n",
       "      <td>Hello ML and DL</td>\n",
       "      <td>2.293940e+09</td>\n",
       "      <td>NaN</td>\n",
       "      <td>Free Order</td>\n",
       "      <td>USD</td>\n",
       "      <td>0</td>\n",
       "      <td>...</td>\n",
       "      <td>Attending</td>\n",
       "      <td>symbiosis institute of technology, pune</td>\n",
       "      <td>Whatsapp</td>\n",
       "      <td>NaN</td>\n",
       "      <td>Students</td>\n",
       "      <td>NaN</td>\n",
       "      <td>7.8</td>\n",
       "      <td>3</td>\n",
       "      <td>3</td>\n",
       "      <td>NaN</td>\n",
       "    </tr>\n",
       "    <tr>\n",
       "      <th>1</th>\n",
       "      <td>Amrita</td>\n",
       "      <td>amrita@xyz.com</td>\n",
       "      <td>1</td>\n",
       "      <td>NaN</td>\n",
       "      <td>Hello ML and DL</td>\n",
       "      <td>2.293941e+09</td>\n",
       "      <td>NaN</td>\n",
       "      <td>Free Order</td>\n",
       "      <td>USD</td>\n",
       "      <td>0</td>\n",
       "      <td>...</td>\n",
       "      <td>Attending</td>\n",
       "      <td>mit academy of engineering ,alandi</td>\n",
       "      <td>Whatsapp</td>\n",
       "      <td>NaN</td>\n",
       "      <td>Students</td>\n",
       "      <td>NaN</td>\n",
       "      <td>9.1</td>\n",
       "      <td>3</td>\n",
       "      <td>3</td>\n",
       "      <td>NaN</td>\n",
       "    </tr>\n",
       "    <tr>\n",
       "      <th>2</th>\n",
       "      <td>Mamta</td>\n",
       "      <td>mamta@xyz.com</td>\n",
       "      <td>1</td>\n",
       "      <td>NaN</td>\n",
       "      <td>Hello ML and DL</td>\n",
       "      <td>2.293941e+09</td>\n",
       "      <td>NaN</td>\n",
       "      <td>Free Order</td>\n",
       "      <td>USD</td>\n",
       "      <td>0</td>\n",
       "      <td>...</td>\n",
       "      <td>Attending</td>\n",
       "      <td>a. c. patil college of engineering</td>\n",
       "      <td>Whatsapp</td>\n",
       "      <td>NaN</td>\n",
       "      <td>Students</td>\n",
       "      <td>NaN</td>\n",
       "      <td>6.9</td>\n",
       "      <td>2</td>\n",
       "      <td>2</td>\n",
       "      <td>NaN</td>\n",
       "    </tr>\n",
       "    <tr>\n",
       "      <th>3</th>\n",
       "      <td>Bhagyashri</td>\n",
       "      <td>bhagyashri@xyz.com</td>\n",
       "      <td>1</td>\n",
       "      <td>NaN</td>\n",
       "      <td>Hello ML and DL</td>\n",
       "      <td>2.293946e+09</td>\n",
       "      <td>NaN</td>\n",
       "      <td>Free Order</td>\n",
       "      <td>USD</td>\n",
       "      <td>0</td>\n",
       "      <td>...</td>\n",
       "      <td>Attending</td>\n",
       "      <td>wilson college</td>\n",
       "      <td>Others</td>\n",
       "      <td>NaN</td>\n",
       "      <td>Students</td>\n",
       "      <td>NaN</td>\n",
       "      <td>8.4</td>\n",
       "      <td>4</td>\n",
       "      <td>4</td>\n",
       "      <td>NaN</td>\n",
       "    </tr>\n",
       "    <tr>\n",
       "      <th>4</th>\n",
       "      <td>Divyanshu</td>\n",
       "      <td>divyanshu@xyz.com</td>\n",
       "      <td>1</td>\n",
       "      <td>NaN</td>\n",
       "      <td>Hello ML and DL</td>\n",
       "      <td>2.293956e+09</td>\n",
       "      <td>NaN</td>\n",
       "      <td>Free Order</td>\n",
       "      <td>USD</td>\n",
       "      <td>0</td>\n",
       "      <td>...</td>\n",
       "      <td>Attending</td>\n",
       "      <td>ld college of engineering, ahmedabad, gujarat</td>\n",
       "      <td>Whatsapp</td>\n",
       "      <td>NaN</td>\n",
       "      <td>Students</td>\n",
       "      <td>NaN</td>\n",
       "      <td>6.7</td>\n",
       "      <td>5</td>\n",
       "      <td>5</td>\n",
       "      <td>NaN</td>\n",
       "    </tr>\n",
       "  </tbody>\n",
       "</table>\n",
       "<p>5 rows × 23 columns</p>\n",
       "</div>"
      ],
      "text/plain": [
       "   First Name            Email ID  Quantity  Price Tier      Ticket Type  \\\n",
       "0      Sahil        sahil@xyz.com         1         NaN  Hello ML and DL   \n",
       "1     Amrita       amrita@xyz.com         1         NaN  Hello ML and DL   \n",
       "2       Mamta       mamta@xyz.com         1         NaN  Hello ML and DL   \n",
       "3  Bhagyashri  bhagyashri@xyz.com         1         NaN  Hello ML and DL   \n",
       "4   Divyanshu   divyanshu@xyz.com         1         NaN  Hello ML and DL   \n",
       "\n",
       "     Attendee #  Group  Order Type Currency  Total Paid  ...  Attendee Status  \\\n",
       "0  2.293940e+09    NaN  Free Order      USD           0  ...        Attending   \n",
       "1  2.293941e+09    NaN  Free Order      USD           0  ...        Attending   \n",
       "2  2.293941e+09    NaN  Free Order      USD           0  ...        Attending   \n",
       "3  2.293946e+09    NaN  Free Order      USD           0  ...        Attending   \n",
       "4  2.293956e+09    NaN  Free Order      USD           0  ...        Attending   \n",
       "\n",
       "                                     College Name  \\\n",
       "0         symbiosis institute of technology, pune   \n",
       "1              mit academy of engineering ,alandi   \n",
       "2              a. c. patil college of engineering   \n",
       "3                                 wilson college    \n",
       "4  ld college of engineering, ahmedabad, gujarat    \n",
       "\n",
       "   How did you come to know about this event?  \\\n",
       "0                                    Whatsapp   \n",
       "1                                    Whatsapp   \n",
       "2                                    Whatsapp   \n",
       "3                                      Others   \n",
       "4                                    Whatsapp   \n",
       "\n",
       "  Specify in \"Others\" (how did you come to know about this event) Designation  \\\n",
       "0                                                NaN                 Students   \n",
       "1                                                NaN                 Students   \n",
       "2                                                NaN                 Students   \n",
       "3                                                NaN                 Students   \n",
       "4                                                NaN                 Students   \n",
       "\n",
       "  Year of Graduation CGPA Speaking Skills ML Knowledge  Placement Status  \n",
       "0                NaN  7.8               3            3               NaN  \n",
       "1                NaN  9.1               3            3               NaN  \n",
       "2                NaN  6.9               2            2               NaN  \n",
       "3                NaN  8.4               4            4               NaN  \n",
       "4                NaN  6.7               5            5               NaN  \n",
       "\n",
       "[5 rows x 23 columns]"
      ]
     },
     "execution_count": 13,
     "metadata": {},
     "output_type": "execute_result"
    }
   ],
   "source": [
    "test_df = pd.read_excel(r'Data\\Prediction of Placement Status Data\\\\02 Test Data.xlsx')\n",
    "test_df.head()"
   ]
  },
  {
   "cell_type": "markdown",
   "id": "060520bb",
   "metadata": {},
   "source": [
    "***Load The Model And Predict***"
   ]
  },
  {
   "cell_type": "code",
   "execution_count": 14,
   "id": "315d525d",
   "metadata": {},
   "outputs": [],
   "source": [
    "loaded_model = joblib.load('decision_tree_model.pkl')\n",
    "\n",
    "new_data_scaled = scaler.transform(test_df[['CGPA', 'ML Knowledge']])\n",
    "new_predictions = loaded_model.predict(new_data_scaled)\n",
    "\n",
    "def get_placement_status(prediction):\n",
    "    return \"Placed\" if prediction == 1 else \"Not Placed\"\n",
    "\n",
    "test_df['Placement Status'] = [get_placement_status(pred) for pred in new_predictions]\n",
    "\n"
   ]
  },
  {
   "cell_type": "markdown",
   "id": "8bd038de",
   "metadata": {},
   "source": [
    "***Save The Results***"
   ]
  },
  {
   "cell_type": "code",
   "execution_count": 15,
   "id": "b044943b",
   "metadata": {},
   "outputs": [],
   "source": [
    "test_df.to_excel(r'Data\\Prediction of Placement Status Data\\\\ans_test_file.xlsx', index=False)  "
   ]
  }
 ],
 "metadata": {
  "kernelspec": {
   "display_name": "Python 3 (ipykernel)",
   "language": "python",
   "name": "python3"
  },
  "language_info": {
   "codemirror_mode": {
    "name": "ipython",
    "version": 3
   },
   "file_extension": ".py",
   "mimetype": "text/x-python",
   "name": "python",
   "nbconvert_exporter": "python",
   "pygments_lexer": "ipython3",
   "version": "3.10.7"
  }
 },
 "nbformat": 4,
 "nbformat_minor": 5
}
